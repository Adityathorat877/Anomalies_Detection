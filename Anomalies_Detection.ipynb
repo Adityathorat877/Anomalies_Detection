{
 "cells": [
  {
   "cell_type": "code",
   "execution_count": 20,
   "id": "3ea05a7e-5d7d-4ffd-a99f-ac38b9eff669",
   "metadata": {},
   "outputs": [],
   "source": [
    "import pandas as pd\n",
    "import numpy as np\n",
    "import matplotlib.pyplot as plt\n",
    "from sklearn.ensemble import IsolationForest"
   ]
  },
  {
   "cell_type": "code",
   "execution_count": 4,
   "id": "10d729d3-f903-4a60-9c1b-eb47307fcb9c",
   "metadata": {},
   "outputs": [],
   "source": [
    "df = pd.read_csv(\"data.csv\")  #Import the data file "
   ]
  },
  {
   "cell_type": "code",
   "execution_count": 5,
   "id": "f5a6508b-a080-432c-b9cc-8f86d5f21dd0",
   "metadata": {},
   "outputs": [
    {
     "data": {
      "text/html": [
       "<div>\n",
       "<style scoped>\n",
       "    .dataframe tbody tr th:only-of-type {\n",
       "        vertical-align: middle;\n",
       "    }\n",
       "\n",
       "    .dataframe tbody tr th {\n",
       "        vertical-align: top;\n",
       "    }\n",
       "\n",
       "    .dataframe thead th {\n",
       "        text-align: right;\n",
       "    }\n",
       "</style>\n",
       "<table border=\"1\" class=\"dataframe\">\n",
       "  <thead>\n",
       "    <tr style=\"text-align: right;\">\n",
       "      <th></th>\n",
       "      <th>time</th>\n",
       "      <th>Cyclone_Inlet_Gas_Temp</th>\n",
       "      <th>Cyclone_Material_Temp</th>\n",
       "      <th>Cyclone_Outlet_Gas_draft</th>\n",
       "      <th>Cyclone_cone_draft</th>\n",
       "      <th>Cyclone_Gas_Outlet_Temp</th>\n",
       "      <th>Cyclone_Inlet_Draft</th>\n",
       "    </tr>\n",
       "  </thead>\n",
       "  <tbody>\n",
       "    <tr>\n",
       "      <th>0</th>\n",
       "      <td>1/1/2017 0:00</td>\n",
       "      <td>867.63</td>\n",
       "      <td>910.42</td>\n",
       "      <td>-189.54</td>\n",
       "      <td>-186.04</td>\n",
       "      <td>852.13</td>\n",
       "      <td>-145.9</td>\n",
       "    </tr>\n",
       "    <tr>\n",
       "      <th>1</th>\n",
       "      <td>1/1/2017 0:05</td>\n",
       "      <td>879.23</td>\n",
       "      <td>918.14</td>\n",
       "      <td>-184.33</td>\n",
       "      <td>-182.1</td>\n",
       "      <td>862.53</td>\n",
       "      <td>-149.76</td>\n",
       "    </tr>\n",
       "    <tr>\n",
       "      <th>2</th>\n",
       "      <td>1/1/2017 0:10</td>\n",
       "      <td>875.67</td>\n",
       "      <td>924.18</td>\n",
       "      <td>-181.26</td>\n",
       "      <td>-166.47</td>\n",
       "      <td>866.06</td>\n",
       "      <td>-145.01</td>\n",
       "    </tr>\n",
       "    <tr>\n",
       "      <th>3</th>\n",
       "      <td>1/1/2017 0:15</td>\n",
       "      <td>875.28</td>\n",
       "      <td>923.15</td>\n",
       "      <td>-179.15</td>\n",
       "      <td>-174.83</td>\n",
       "      <td>865.85</td>\n",
       "      <td>-142.82</td>\n",
       "    </tr>\n",
       "    <tr>\n",
       "      <th>4</th>\n",
       "      <td>1/1/2017 0:20</td>\n",
       "      <td>891.66</td>\n",
       "      <td>934.26</td>\n",
       "      <td>-178.32</td>\n",
       "      <td>-173.72</td>\n",
       "      <td>876.06</td>\n",
       "      <td>-143.39</td>\n",
       "    </tr>\n",
       "  </tbody>\n",
       "</table>\n",
       "</div>"
      ],
      "text/plain": [
       "            time Cyclone_Inlet_Gas_Temp Cyclone_Material_Temp  \\\n",
       "0  1/1/2017 0:00                 867.63                910.42   \n",
       "1  1/1/2017 0:05                 879.23                918.14   \n",
       "2  1/1/2017 0:10                 875.67                924.18   \n",
       "3  1/1/2017 0:15                 875.28                923.15   \n",
       "4  1/1/2017 0:20                 891.66                934.26   \n",
       "\n",
       "  Cyclone_Outlet_Gas_draft Cyclone_cone_draft Cyclone_Gas_Outlet_Temp  \\\n",
       "0                  -189.54            -186.04                  852.13   \n",
       "1                  -184.33             -182.1                  862.53   \n",
       "2                  -181.26            -166.47                  866.06   \n",
       "3                  -179.15            -174.83                  865.85   \n",
       "4                  -178.32            -173.72                  876.06   \n",
       "\n",
       "  Cyclone_Inlet_Draft  \n",
       "0              -145.9  \n",
       "1             -149.76  \n",
       "2             -145.01  \n",
       "3             -142.82  \n",
       "4             -143.39  "
      ]
     },
     "execution_count": 5,
     "metadata": {},
     "output_type": "execute_result"
    }
   ],
   "source": [
    "df.head()"
   ]
  },
  {
   "cell_type": "code",
   "execution_count": 6,
   "id": "35382047-4a01-415e-aab4-46da7ffc85af",
   "metadata": {},
   "outputs": [
    {
     "name": "stdout",
     "output_type": "stream",
     "text": [
      "<class 'pandas.core.frame.DataFrame'>\n",
      "RangeIndex: 378719 entries, 0 to 378718\n",
      "Data columns (total 7 columns):\n",
      " #   Column                    Non-Null Count   Dtype \n",
      "---  ------                    --------------   ----- \n",
      " 0   time                      377719 non-null  object\n",
      " 1   Cyclone_Inlet_Gas_Temp    377719 non-null  object\n",
      " 2   Cyclone_Material_Temp     377719 non-null  object\n",
      " 3   Cyclone_Outlet_Gas_draft  377719 non-null  object\n",
      " 4   Cyclone_cone_draft        377719 non-null  object\n",
      " 5   Cyclone_Gas_Outlet_Temp   377719 non-null  object\n",
      " 6   Cyclone_Inlet_Draft       377719 non-null  object\n",
      "dtypes: object(7)\n",
      "memory usage: 20.2+ MB\n"
     ]
    }
   ],
   "source": [
    "df.info()"
   ]
  },
  {
   "cell_type": "code",
   "execution_count": 6,
   "id": "8a58c495-2977-4231-b4b2-db1a12566ed1",
   "metadata": {},
   "outputs": [
    {
     "data": {
      "text/plain": [
       "time                        1000\n",
       "Cyclone_Inlet_Gas_Temp      1000\n",
       "Cyclone_Material_Temp       1000\n",
       "Cyclone_Outlet_Gas_draft    1000\n",
       "Cyclone_cone_draft          1000\n",
       "Cyclone_Gas_Outlet_Temp     1000\n",
       "Cyclone_Inlet_Draft         1000\n",
       "dtype: int64"
      ]
     },
     "execution_count": 6,
     "metadata": {},
     "output_type": "execute_result"
    }
   ],
   "source": [
    "df.isna().sum()"
   ]
  },
  {
   "cell_type": "code",
   "execution_count": 7,
   "id": "f3d06f20-44bc-4229-8290-c546b295432d",
   "metadata": {},
   "outputs": [],
   "source": [
    "# First Convert timestamp column to datetime\n",
    "df['time'] = pd.to_datetime(df['time'], errors = 'coerce')"
   ]
  },
  {
   "cell_type": "code",
   "execution_count": 8,
   "id": "04a6b5cb-fa58-409d-8810-0c9c8ab692d8",
   "metadata": {},
   "outputs": [
    {
     "data": {
      "text/html": [
       "<div>\n",
       "<style scoped>\n",
       "    .dataframe tbody tr th:only-of-type {\n",
       "        vertical-align: middle;\n",
       "    }\n",
       "\n",
       "    .dataframe tbody tr th {\n",
       "        vertical-align: top;\n",
       "    }\n",
       "\n",
       "    .dataframe thead th {\n",
       "        text-align: right;\n",
       "    }\n",
       "</style>\n",
       "<table border=\"1\" class=\"dataframe\">\n",
       "  <thead>\n",
       "    <tr style=\"text-align: right;\">\n",
       "      <th></th>\n",
       "      <th>time</th>\n",
       "      <th>Cyclone_Inlet_Gas_Temp</th>\n",
       "      <th>Cyclone_Material_Temp</th>\n",
       "      <th>Cyclone_Outlet_Gas_draft</th>\n",
       "      <th>Cyclone_cone_draft</th>\n",
       "      <th>Cyclone_Gas_Outlet_Temp</th>\n",
       "      <th>Cyclone_Inlet_Draft</th>\n",
       "    </tr>\n",
       "  </thead>\n",
       "  <tbody>\n",
       "    <tr>\n",
       "      <th>0</th>\n",
       "      <td>2017-01-01 00:00:00</td>\n",
       "      <td>867.63</td>\n",
       "      <td>910.42</td>\n",
       "      <td>-189.54</td>\n",
       "      <td>-186.04</td>\n",
       "      <td>852.13</td>\n",
       "      <td>-145.9</td>\n",
       "    </tr>\n",
       "    <tr>\n",
       "      <th>1</th>\n",
       "      <td>2017-01-01 00:05:00</td>\n",
       "      <td>879.23</td>\n",
       "      <td>918.14</td>\n",
       "      <td>-184.33</td>\n",
       "      <td>-182.1</td>\n",
       "      <td>862.53</td>\n",
       "      <td>-149.76</td>\n",
       "    </tr>\n",
       "    <tr>\n",
       "      <th>2</th>\n",
       "      <td>2017-01-01 00:10:00</td>\n",
       "      <td>875.67</td>\n",
       "      <td>924.18</td>\n",
       "      <td>-181.26</td>\n",
       "      <td>-166.47</td>\n",
       "      <td>866.06</td>\n",
       "      <td>-145.01</td>\n",
       "    </tr>\n",
       "    <tr>\n",
       "      <th>3</th>\n",
       "      <td>2017-01-01 00:15:00</td>\n",
       "      <td>875.28</td>\n",
       "      <td>923.15</td>\n",
       "      <td>-179.15</td>\n",
       "      <td>-174.83</td>\n",
       "      <td>865.85</td>\n",
       "      <td>-142.82</td>\n",
       "    </tr>\n",
       "    <tr>\n",
       "      <th>4</th>\n",
       "      <td>2017-01-01 00:20:00</td>\n",
       "      <td>891.66</td>\n",
       "      <td>934.26</td>\n",
       "      <td>-178.32</td>\n",
       "      <td>-173.72</td>\n",
       "      <td>876.06</td>\n",
       "      <td>-143.39</td>\n",
       "    </tr>\n",
       "  </tbody>\n",
       "</table>\n",
       "</div>"
      ],
      "text/plain": [
       "                 time Cyclone_Inlet_Gas_Temp Cyclone_Material_Temp  \\\n",
       "0 2017-01-01 00:00:00                 867.63                910.42   \n",
       "1 2017-01-01 00:05:00                 879.23                918.14   \n",
       "2 2017-01-01 00:10:00                 875.67                924.18   \n",
       "3 2017-01-01 00:15:00                 875.28                923.15   \n",
       "4 2017-01-01 00:20:00                 891.66                934.26   \n",
       "\n",
       "  Cyclone_Outlet_Gas_draft Cyclone_cone_draft Cyclone_Gas_Outlet_Temp  \\\n",
       "0                  -189.54            -186.04                  852.13   \n",
       "1                  -184.33             -182.1                  862.53   \n",
       "2                  -181.26            -166.47                  866.06   \n",
       "3                  -179.15            -174.83                  865.85   \n",
       "4                  -178.32            -173.72                  876.06   \n",
       "\n",
       "  Cyclone_Inlet_Draft  \n",
       "0              -145.9  \n",
       "1             -149.76  \n",
       "2             -145.01  \n",
       "3             -142.82  \n",
       "4             -143.39  "
      ]
     },
     "execution_count": 8,
     "metadata": {},
     "output_type": "execute_result"
    }
   ],
   "source": [
    "df.head()"
   ]
  },
  {
   "cell_type": "code",
   "execution_count": 9,
   "id": "ee9de840-9b05-4c26-a506-fe17fd633b99",
   "metadata": {},
   "outputs": [],
   "source": [
    "# Now we have to Convert all sensor readings to numeric values\n",
    "df.iloc[:,1:] = df.iloc[:,1:].apply(pd.to_numeric, errors='coerce')"
   ]
  },
  {
   "cell_type": "code",
   "execution_count": 10,
   "id": "947c8a98-26dc-40d9-a272-bdff5433ca22",
   "metadata": {},
   "outputs": [],
   "source": [
    "# Now we can Drop rows with missing or invalid entries\n",
    "df.dropna(inplace=True)"
   ]
  },
  {
   "cell_type": "code",
   "execution_count": 11,
   "id": "708c32f2-100f-44d4-b8b3-5aceba04cc24",
   "metadata": {},
   "outputs": [
    {
     "data": {
      "text/plain": [
       "time                        0\n",
       "Cyclone_Inlet_Gas_Temp      0\n",
       "Cyclone_Material_Temp       0\n",
       "Cyclone_Outlet_Gas_draft    0\n",
       "Cyclone_cone_draft          0\n",
       "Cyclone_Gas_Outlet_Temp     0\n",
       "Cyclone_Inlet_Draft         0\n",
       "dtype: int64"
      ]
     },
     "execution_count": 11,
     "metadata": {},
     "output_type": "execute_result"
    }
   ],
   "source": [
    "df.isna().sum()"
   ]
  },
  {
   "cell_type": "code",
   "execution_count": 12,
   "id": "5184394e-3619-437f-8963-211f7e03b943",
   "metadata": {},
   "outputs": [],
   "source": [
    "# Now we have to start the Evaluation process \n",
    "features = df.drop(columns=['time'])"
   ]
  },
  {
   "cell_type": "code",
   "execution_count": 13,
   "id": "d11e7200-da5b-490c-9c21-0642ce15dffe",
   "metadata": {},
   "outputs": [],
   "source": [
    "# Initialize and train the Isolation Forest model\n",
    "model = IsolationForest(n_estimators=100, contamination=0.01, random_state=42)\n",
    "df['anomaly'] = model.fit_predict(features)"
   ]
  },
  {
   "cell_type": "code",
   "execution_count": 14,
   "id": "10c9ac8c-48e5-4f73-b965-6481cc848e8a",
   "metadata": {},
   "outputs": [
    {
     "data": {
      "text/html": [
       "<div>\n",
       "<style scoped>\n",
       "    .dataframe tbody tr th:only-of-type {\n",
       "        vertical-align: middle;\n",
       "    }\n",
       "\n",
       "    .dataframe tbody tr th {\n",
       "        vertical-align: top;\n",
       "    }\n",
       "\n",
       "    .dataframe thead th {\n",
       "        text-align: right;\n",
       "    }\n",
       "</style>\n",
       "<table border=\"1\" class=\"dataframe\">\n",
       "  <thead>\n",
       "    <tr style=\"text-align: right;\">\n",
       "      <th></th>\n",
       "      <th>time</th>\n",
       "      <th>Cyclone_Inlet_Gas_Temp</th>\n",
       "      <th>Cyclone_Material_Temp</th>\n",
       "      <th>Cyclone_Outlet_Gas_draft</th>\n",
       "      <th>Cyclone_cone_draft</th>\n",
       "      <th>Cyclone_Gas_Outlet_Temp</th>\n",
       "      <th>Cyclone_Inlet_Draft</th>\n",
       "      <th>anomaly</th>\n",
       "    </tr>\n",
       "  </thead>\n",
       "  <tbody>\n",
       "    <tr>\n",
       "      <th>0</th>\n",
       "      <td>2017-01-01 00:00:00</td>\n",
       "      <td>867.63</td>\n",
       "      <td>910.42</td>\n",
       "      <td>-189.54</td>\n",
       "      <td>-186.04</td>\n",
       "      <td>852.13</td>\n",
       "      <td>-145.9</td>\n",
       "      <td>1</td>\n",
       "    </tr>\n",
       "    <tr>\n",
       "      <th>1</th>\n",
       "      <td>2017-01-01 00:05:00</td>\n",
       "      <td>879.23</td>\n",
       "      <td>918.14</td>\n",
       "      <td>-184.33</td>\n",
       "      <td>-182.1</td>\n",
       "      <td>862.53</td>\n",
       "      <td>-149.76</td>\n",
       "      <td>1</td>\n",
       "    </tr>\n",
       "    <tr>\n",
       "      <th>2</th>\n",
       "      <td>2017-01-01 00:10:00</td>\n",
       "      <td>875.67</td>\n",
       "      <td>924.18</td>\n",
       "      <td>-181.26</td>\n",
       "      <td>-166.47</td>\n",
       "      <td>866.06</td>\n",
       "      <td>-145.01</td>\n",
       "      <td>1</td>\n",
       "    </tr>\n",
       "    <tr>\n",
       "      <th>3</th>\n",
       "      <td>2017-01-01 00:15:00</td>\n",
       "      <td>875.28</td>\n",
       "      <td>923.15</td>\n",
       "      <td>-179.15</td>\n",
       "      <td>-174.83</td>\n",
       "      <td>865.85</td>\n",
       "      <td>-142.82</td>\n",
       "      <td>1</td>\n",
       "    </tr>\n",
       "    <tr>\n",
       "      <th>4</th>\n",
       "      <td>2017-01-01 00:20:00</td>\n",
       "      <td>891.66</td>\n",
       "      <td>934.26</td>\n",
       "      <td>-178.32</td>\n",
       "      <td>-173.72</td>\n",
       "      <td>876.06</td>\n",
       "      <td>-143.39</td>\n",
       "      <td>1</td>\n",
       "    </tr>\n",
       "  </tbody>\n",
       "</table>\n",
       "</div>"
      ],
      "text/plain": [
       "                 time Cyclone_Inlet_Gas_Temp Cyclone_Material_Temp  \\\n",
       "0 2017-01-01 00:00:00                 867.63                910.42   \n",
       "1 2017-01-01 00:05:00                 879.23                918.14   \n",
       "2 2017-01-01 00:10:00                 875.67                924.18   \n",
       "3 2017-01-01 00:15:00                 875.28                923.15   \n",
       "4 2017-01-01 00:20:00                 891.66                934.26   \n",
       "\n",
       "  Cyclone_Outlet_Gas_draft Cyclone_cone_draft Cyclone_Gas_Outlet_Temp  \\\n",
       "0                  -189.54            -186.04                  852.13   \n",
       "1                  -184.33             -182.1                  862.53   \n",
       "2                  -181.26            -166.47                  866.06   \n",
       "3                  -179.15            -174.83                  865.85   \n",
       "4                  -178.32            -173.72                  876.06   \n",
       "\n",
       "  Cyclone_Inlet_Draft  anomaly  \n",
       "0              -145.9        1  \n",
       "1             -149.76        1  \n",
       "2             -145.01        1  \n",
       "3             -142.82        1  \n",
       "4             -143.39        1  "
      ]
     },
     "execution_count": 14,
     "metadata": {},
     "output_type": "execute_result"
    }
   ],
   "source": [
    "df.head()"
   ]
  },
  {
   "cell_type": "code",
   "execution_count": 15,
   "id": "cc1c5a59-c1e3-4cc0-83a7-f5ee0f7c8245",
   "metadata": {},
   "outputs": [
    {
     "name": "stdout",
     "output_type": "stream",
     "text": [
      "                    time Cyclone_Inlet_Gas_Temp Cyclone_Material_Temp  \\\n",
      "6363 2017-01-23 02:15:00                 769.63                691.05   \n",
      "6373 2017-01-23 03:05:00                 592.82                463.82   \n",
      "6399 2017-01-23 05:15:00                 495.33                375.95   \n",
      "6408 2017-01-23 06:00:00                 626.54                884.37   \n",
      "6409 2017-01-23 06:05:00                 643.77                941.96   \n",
      "\n",
      "     Cyclone_Outlet_Gas_draft Cyclone_cone_draft Cyclone_Gas_Outlet_Temp  \\\n",
      "6363                    20.54               4.48                  745.29   \n",
      "6373                     -8.8             -24.96                  579.13   \n",
      "6399                   -22.78             -39.44                  459.85   \n",
      "6408                    14.61              -4.99                  609.39   \n",
      "6409                     7.69             -11.36                  621.84   \n",
      "\n",
      "     Cyclone_Inlet_Draft  anomaly  \n",
      "6363               15.19       -1  \n",
      "6373               -6.91       -1  \n",
      "6399              -22.19       -1  \n",
      "6408               12.51       -1  \n",
      "6409                4.38       -1  \n"
     ]
    }
   ],
   "source": [
    "print(df[df['anomaly'] == -1].head())"
   ]
  },
  {
   "cell_type": "code",
   "execution_count": 16,
   "id": "38c91a89-8ed2-4fae-8d95-9b88e61d803c",
   "metadata": {},
   "outputs": [],
   "source": [
    "# Count the number of 1's and -1's from the anomalies Column\n",
    "cnt1 = (df['anomaly'] == 1).sum()\n",
    "cnt2 = (df['anomaly'] == -1).sum()"
   ]
  },
  {
   "cell_type": "code",
   "execution_count": 17,
   "id": "b3d247d9-9c4c-4f9e-b275-87afa68ac617",
   "metadata": {},
   "outputs": [
    {
     "name": "stdout",
     "output_type": "stream",
     "text": [
      "Total Number of 1's : 372362\n",
      "Total Number of -1's : 3762\n"
     ]
    }
   ],
   "source": [
    "print(\"Total Number of 1's :\", cnt1)\n",
    "print(\"Total Number of -1's :\", cnt2)"
   ]
  },
  {
   "cell_type": "code",
   "execution_count": 33,
   "id": "2788b8b5-54a0-4085-93fd-f526b7212c42",
   "metadata": {},
   "outputs": [
    {
     "data": {
      "image/png": "[encoded data removed]",
      "text/plain": [
       "<Figure size 1000x400 with 1 Axes>"
      ]
     },
     "metadata": {},
     "output_type": "display_data"
    }
   ],
   "source": [
    "# Let's Visuailise the data points using Plot for first 6500 data points\n",
    "# for that lets create a subset\n",
    "\n",
    "subset = df.iloc[:6500]\n",
    "\n",
    "x = subset['Cyclone_Inlet_Gas_Temp']\n",
    "y = subset['Cyclone_Gas_Outlet_Temp']\n",
    "\n",
    "color = subset['anomaly'].map({1:'green', -1:'red'})\n",
    "\n",
    "# figure size\n",
    "plt.figure(figsize=(10,4))\n",
    "plt.scatter(x, y, c=color, alpha=0.6)\n",
    "\n",
    "# Labels and title\n",
    "plt.xlabel(\"Scaled Inlet Gas Temp\")\n",
    "plt.ylabel(\"Scaled Outlet Gas Temp\")\n",
    "plt.title(\"Scaled Inlet vs Outlet Gas Temperature (First 6500 Points)\")\n",
    "plt.show()"
   ]
  },
  {
   "cell_type": "code",
   "execution_count": 22,
   "id": "eeffec8e-fb9c-4e69-a3e0-4d0b804ec387",
   "metadata": {},
   "outputs": [],
   "source": [
    "# Save results to CSV\n",
    "df.to_csv(\"cyclone_anomaly_results.csv\", index=False)"
   ]
  }
 ],
 "metadata": {
  "kernelspec": {
   "display_name": "Python 3 (ipykernel)",
   "language": "python",
   "name": "python3"
  },
  "language_info": {
   "codemirror_mode": {
    "name": "ipython",
    "version": 3
   },
   "file_extension": ".py",
   "mimetype": "text/x-python",
   "name": "python",
   "nbconvert_exporter": "python",
   "pygments_lexer": "ipython3",
   "version": "3.10.0"
  }
 },
 "nbformat": 4,
 "nbformat_minor": 5
}
